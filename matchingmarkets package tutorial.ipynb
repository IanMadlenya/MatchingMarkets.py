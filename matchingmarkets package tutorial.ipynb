{
 "cells": [
  {
   "cell_type": "markdown",
   "metadata": {},
   "source": [
    "# \"`matchingmarkets`\" simulation package tutorial (part 1)\n",
    "\n",
    "This package simulates matching markets (without money). The simulated markets can be for a single period (static) or evolve over multiple periods (dynamic). \n",
    "\n",
    "For example, a single period matching market could be matching high school students to schools, which is done at once for all high school freshmen each year. In contrast, a dynamic market could be an organ transplant list, matching patients to organs. In the transplant list, patients and organs arrive in the market at different times, and leave the market at different times (either by receiving a transplant, or death).\n",
    "\n",
    "It's intuitive that methods built for static markets won't necessarily perform well in dynamic markets, because the decision of *when* to match is now important.\n",
    "\n",
    "While the problem of static matching markets has been well studied over many decades, the study of dynamic matching markets is recent and sparse in comparison. For instance, [Akbarpour et al. (2014)](http://economics.mit.edu/files/10375) is the first known publication to study the theory of dynamic matching in general matching markets. \n",
    "\n",
    "It's reasonable to assume that the lack of formal theory around dynamic matching is because of the sheer mathematical difficulty of proving results in this domain, and not because of lack of applicability, or interest (recall the 2012 [Nobel prize in economics](http://www.nobelprize.org/nobel_prizes/economic-sciences/laureates/2012/) was given to Shapley and Roth for their study of matching markets.)\n",
    "\n",
    "This lack of formal theory motivates this package, which is built to test user defined algorithms in a fairly general setting, with a focus on dynamic markets. The `matchingmarkets` package is built around the following concepts: various types of **Agents**, a **Market** containing the agents, **Algorithms** which decide *who* to match in the market and *how*, and **meta-Algorithms** which decide *when*, and with *who*, to implement the algorithm. \n",
    "\n",
    "In this tutorial, we'll explain these concepts, then use them to test the theoretical results in Akbarpour et al. (2014) using the package."
   ]
  },
  {
   "cell_type": "markdown",
   "metadata": {},
   "source": [
    "# Agents\n",
    "\n",
    "Agents are the relevant members in a matching market. In the `matchingmarkets` package they are represented by the `Agent` class, which has a few attributes to allow it to represent general agents in a market. An agent is initialized in python with"
   ]
  },
  {
   "cell_type": "code",
   "execution_count": 3,
   "metadata": {
    "collapsed": true
   },
   "outputs": [],
   "source": [
    "import matchingmarkets as mm\n",
    "\n",
    "mrAgent = mm.Agent()"
   ]
  },
  {
   "cell_type": "markdown",
   "metadata": {},
   "source": [
    "An `Agent` has attributes:\n",
    "\n",
    "- Two **types** which can be used to differentiate agents from each other. They can be accessed with `mrAgent.type` and `mrAgent.type2`. In most cases, we only use one type. For example, in a market matching students to schools, we could represent students with `mrAgent.type = \"student\"`, or simply index it to an integer, as `mrAgent.type = 1`. \n",
    "    \n",
    "    The second type is used to permit more complex relationships between agents. For example, in a kidney transplant market, a transplant list patient is usually accompanied by willing donor, often a family member. However, transplant compatibility depends on blood type, and the patient/donor pair are not necessarily compatible together. We can represent a patient/donor pair as one agent, with each type representing the patient blood type and donor blood type respectively."
   ]
  },
  {
   "cell_type": "code",
   "execution_count": 4,
   "metadata": {
    "collapsed": true
   },
   "outputs": [],
   "source": [
    "PatientDonorPair = mm.Agent()\n",
    "PatientDonorPair.type = 'AB-'  # Patient blood type\n",
    "PatientDonorPair.type2 = 'O+'  # Donor blood type"
   ]
  },
  {
   "cell_type": "markdown",
   "metadata": {},
   "source": [
    "- The **utility of a match** is determined by a dictionary each agent has which maps every other agent to a utility value. This dictionary is accessed by `mrAgent.match_util`.\n",
    "    This is usually done by type; for example, in a kidney market, we could make the utility $1$ if a match is compatible and $0$ otherwise.\n",
    "    \n",
    "- A **discount rate** which is the rate at which the agent loses utility by matching a long time after arriving into the market. This is a floating point number in $[0,1]$. It is often set to $1$; which makes a match have the same value at any time.\n",
    "\n",
    "\n",
    "- A **match compatibility map**, a dictionary which maps other agents in the market to the probability of a failure of attempting a match with that agent. This dictionary is accessed by `mrAgent.match_fail_prob`. This is often set to $1$ for compatible matches and $0$ for incompatible matches.\n",
    "\n",
    "    The values in both `match_util` and `match_fail_prob` for all agents are filled by functions which the user can define and which we'll go over later.\n",
    "\n",
    "\n",
    "- An **Amount of time in the market**, accessed by `mrAgent.time_to_critical`. This is an integer which denotes the number of periods after entering the market before the agent goes critical. When an agent is *critical*, he will leave the market at the next period (for example, death in an organ transplant list). \n",
    "\n",
    "    If the market is static (has one period), `time_to_critical` will be $0$ for everyone. Since everyone leaves the market at the next period, they are all critical in the period they enter the market.\n",
    "    \n",
    "    \n",
    "- The `Agent` class also has a few other **automatically generated attributes**:\n",
    "\n",
    "    - A name, accessed by `mrAgent.name`, which is automatically set to a different integer for all agents in a market. This is to differentiate otherwise similar agents. The integer is indexed to the order in which the agents entered the market.\n",
    "    \n",
    "    - A bool, `is_critical`, which is 1 if the agent will perish in the next period and 0 otherwise\n",
    "    \n",
    "    - An integer, `sojourn`, which tracks the number of periods the agent has been in the market"
   ]
  },
  {
   "cell_type": "markdown",
   "metadata": {},
   "source": [
    "# Market\n",
    "\n",
    "The `Market` class acts as a container for agents, and tracks the interactions between the `Agents` as time advances. It also implements the important `Market.update()` function which implements all the changes in a time period. We'll go over the update function after defining some more machinery.\n",
    "\n",
    "\n",
    "-  The agents **currently in the market** is a python list accessed by `Market.Agents`\n",
    "\n",
    "- The **perished** and **matched** agents are similarly pyhon lists, that contain the perished and matched agents, respectively. They are accessed by\n",
    " `Market.perished`, and `Market.matched`\n",
    "\n",
    "\n",
    "   Note we use the term \"perished\" to denote agents who dropped out of the market without a match after *going critical*. This term is self-explanatory in organ transplant lists, but used in the general case.\n",
    "    \n",
    "    \n",
    "- **Completed matches** are tracked in `Market.matched_dict`, a python dictionary. Note that matches, in the general case, are a represented by a directed graph. In some markets, matches are bilateral, but in others, matching can take the form of a \"chain\", as in the case of [organ transplants](http://www.bbc.co.uk/news/health-17112314).\n",
    "\n",
    "- The average amount of **new agents arriving in the market** at any period is kept in `Market.arrival_rate`. It is the $\\lambda$ in a poisson distribution, which is randomly drawn from every period.\n",
    "\n",
    "- The average **probability of a match** between two compatible agents being acceptable is in `Market.acceptable_prob`, a float in $[0,1]$. This can be used to create additional stochastic friction in a market, but is usually set to $1$, nullifying this friction.\n",
    "\n",
    "\n",
    "- There are other **automatically generated attributes** in the `Market` class:\n",
    "\n",
    "    - `Market.time`, tracking the age of the market\n",
    "    \n",
    "    - `Market.welfare` tracking the total utility of all agents in the market\n",
    "    \n",
    "    - `Market.max_agents`, the maximum number of agents that can enter the market over all periods\n",
    "    \n",
    "    - `Market.total_agents`, the total distinct number of agents who ever entered market\n",
    "    \n",
    "    - `Market.loss`, the rate of perished agents observed in the market up to now"
   ]
  },
  {
   "cell_type": "markdown",
   "metadata": {},
   "source": [
    "# Matching Algorithms\n",
    "\n",
    "The matching algorithm implements a matching method **at a particular period**. Matching algorithms take in a python list of `Agents` and a `Market` object, and return a python dictionary, mapping directed matches as `{sourceAgent.name : sinkAgent.name}`. Bilateral matches need to have both agents pointing to each other in the dict, as `{agent1.name: agent2.name, agent2.name: agent1.name}`. \n",
    "\n",
    "The user is given flexibility in defining an algorithm, as long as the inputs and outputs are correctly formatted. For instance, the list of `Agents` can represent the pool of agents to be matched by the algorithm, or the pool of agents initiating matches, or receiving matches, etc.\n",
    "\n",
    "We now have all the machinery necessary to make an algorithm! To make this concrete, let's go over a function implementing random bilateral matches. The agents passed in the function *initiate* matches with anyone in the entire market."
   ]
  },
  {
   "cell_type": "code",
   "execution_count": 11,
   "metadata": {
    "collapsed": true
   },
   "outputs": [],
   "source": [
    "def arbitraryMatch(Mrkt, Agents):\n",
    "    \"\"\"\n",
    "    Random __bilateral__ matches\n",
    "    Agents in input initiate matches\n",
    "    Initiating agent can match with anyone\n",
    "    Arguments\n",
    "    --------------\n",
    "    Mrkt: Market object\n",
    "        The Market in which the matches take place\n",
    "    Agents: List<Agent object>\n",
    "        The agents initiating the random bilateral matches\n",
    "    Returns\n",
    "    --------------\n",
    "    dict<Agent.name : Agent.name>\n",
    "    \"\"\"\n",
    "    # matched is the returned dict\n",
    "    matched = dict()\n",
    "\n",
    "    # copy list of agents to match to delete on while iterating\n",
    "    AgentCopy = list(Agents)\n",
    "    \n",
    "    allAgentNames = [a.name for a in Mrkt.Agents]\n",
    "    for agent in Agents:\n",
    "        # If agent already matched, skip\n",
    "        if agent not in AgentCopy:\n",
    "            continue\n",
    "        myNeighbors = agent.neighbors()\n",
    "        # remove already matched neighbors\n",
    "        localAgentNames = [a.name for a in AgentCopy]\n",
    "        for neighborName in myNeighbors:\n",
    "            if neighborName in allAgentNames and \\\n",
    "                      neighborName not in localAgentNames:\n",
    "                myNeighbors.remove(neighborName)\n",
    "        # If neighbors, match at random\n",
    "        if len(myNeighbors) > 0:\n",
    "            match = random.choice(myNeighbors)\n",
    "            matched[agent.name] = match\n",
    "            matched[match] = agent.name\n",
    "            # Clean up matched agents\n",
    "            AgentCopy.remove(agent)\n",
    "            for agent_match in AgentCopy:\n",
    "                if agent_match.name == match:\n",
    "                    AgentCopy.remove(agent_match)\n",
    "                    break\n",
    "    return matched"
   ]
  },
  {
   "cell_type": "markdown",
   "metadata": {
    "collapsed": true
   },
   "source": [
    "# Matching Meta-Algorithms\n",
    "\n",
    "Meta-Algorithms are a wrapper around a matching algorithm that define the **timing and pool of matches** for the matching algorithm. They take in a `Market` object and a matching algorithm as defined above. Again, flexibility is left to users to build timing rules to their heart's content.\n",
    "\n",
    "Here is a meta-algorithm where the pool of agents is the agents currently *critical* in the market. It implements the random bilateral matching algorithm we defined above by default, so critical agents will *initiate* matches with anyone in the market:"
   ]
  },
  {
   "cell_type": "code",
   "execution_count": 12,
   "metadata": {
    "collapsed": false
   },
   "outputs": [],
   "source": [
    "def meta_Patient(Market, match=arbitraryMatch):\n",
    "    \"\"\"\n",
    "    Patient algorithm from Akbarpour et al. (2014)\n",
    "    Attempts match if agent is critical\n",
    "    \"\"\"\n",
    "    AgentList = [ag for ag in Market.Agents if ag.is_critical]\n",
    "    return match(Market, AgentList)"
   ]
  },
  {
   "cell_type": "markdown",
   "metadata": {},
   "source": [
    "Note that we can pass any other matching algorithm into `meta_Patient` as a keyword argument.\n",
    "\n",
    "\n",
    "# Simulations\n",
    "\n",
    "To create a simulation, we first initialize a `simulation` object."
   ]
  },
  {
   "cell_type": "code",
   "execution_count": 13,
   "metadata": {
    "collapsed": true
   },
   "outputs": [],
   "source": [
    "tutorialSim = mm.simulation(runs=5, time_per_run=3500, max_agents=5000, logAllData=False)"
   ]
  },
  {
   "cell_type": "markdown",
   "metadata": {},
   "source": [
    "The arguments creating a `simulation` are attributes for the montecarlo simulation.\n",
    "\n",
    "- The **number of montecarlo trials** is in `simulation.runs`\n",
    "\n",
    "- The number of **time periods per run** is in `simulation.time_per_run`\n",
    "\n",
    "- The **maximum number of agents in a run** is in `simulation.max_agents`\n",
    "\n",
    "- You can **log all of the data** for every period in every run by setting the `logAllData` flag to true. Note this makes the simulations *much* slower, but this permits you to output plots of your simulations.\n",
    "\n",
    "The `simulation.run()` method is where most of the action takes place. The method takes many parameters, defining how the market will operate. Here is an example of a call of the function, which we will break down afterwards"
   ]
  },
  {
   "cell_type": "code",
   "execution_count": 14,
   "metadata": {
    "collapsed": false
   },
   "outputs": [
    {
     "name": "stdout",
     "output_type": "stream",
     "text": [
      "Simulation Results\n",
      "3500  periods\n",
      "5  runs\n",
      "Stat\t  value\t (std dev)\n",
      "==================================\n",
      "Welfare:   5002.2 ( 2.0396 )\n",
      "matches:   5002.2  ( 2.0396 )\n",
      "perished:  0.0  ( 0.0000 )\n",
      "loss%:     0.0000  ( 0.0000 )\n"
     ]
    }
   ],
   "source": [
    "from scipy.stats import poisson\n",
    "\n",
    "tutorialSim.run(arrival_rate=5, time_to_crit=poisson.rvs, crit_input=10,\n",
    "        algorithm=mm.arbitraryMatch, metaAlgorithm=meta_Patient, \n",
    "        matchUtilFct=mm.utilSameType, neighborFct=mm.neighborSameType,\n",
    "        typeGenerator=mm.randomType, numTypes=5)\n",
    "\n",
    "tutorialSim.stats()"
   ]
  },
  {
   "cell_type": "markdown",
   "metadata": {},
   "source": [
    "- The **arrival rate**, the **algorithm** and **meta-algorithm** are as we defined them above\n",
    "\n",
    "\n",
    "- The function that defines **when agents go critical** is in `time_to_crit`. In this example, we took scipy's implementation of a poisson distribution draw. The **input of the function** is in `crit_input`, so here the $\\lambda$ in the poisson function is 10\n",
    "\n",
    "\n",
    "- The **function that generates the types of the agents** is implemented in `typeGenerator`. The `typeGenerator` function takes one input, which is called `numTypes` but can be overloaded with whatever data type the user wants. The function is called every time an agent is created, so it's usually best to make it some form of random draw. \n",
    "\n",
    "    Here, `randomType` assigns the `Agent`'s type to be a random integer between $0$ and `numTypes`, so there are $5$ types of agents, with equal probability of each in the market.\n",
    "\n",
    "- The **function that defines agent compatibility** is called the `neighborFct`, because it returns neighbor vertices in the directed graph of possible matches. To be compatible with the simulation, a `neighborFct` takes two agents as input, and a cutoff value, which is always passed by the `Market.acceptable_prob`. The functions returns an integer, which is the probability of the success of a match. \n",
    "\n",
    "  Here, the function passed returns $1$ if the agents have the same type, and $0$ otherwise. Note that we ignore the `cutoff` input, but have to implement it for compatibility:"
   ]
  },
  {
   "cell_type": "code",
   "execution_count": 15,
   "metadata": {
    "collapsed": true
   },
   "outputs": [],
   "source": [
    "def neighborSameType(agent, otherAgent, cutoff):\n",
    "    \"\"\"\n",
    "    neighborFct overload\n",
    "    returns 1 if types are same\n",
    "    \"\"\"\n",
    "    result = agent.type == otherAgent.type \\\n",
    "        and agent.name != otherAgent.name\n",
    "    return result"
   ]
  },
  {
   "cell_type": "markdown",
   "metadata": {},
   "source": [
    "- The **function that defines the utility agents receive from a match** is called the `matchUtilFct`. It has *the same formatting as* the `neighborFct`, taking two agents and an integer/floating point number as input, and outputs a number, the utility the source vertex of the match gets from matching with the sink vertex.\n",
    "\n",
    "    Here, the `utilSameType` function returns $1$ if the match is with an agent of the same type, and $0$ otherwise."
   ]
  },
  {
   "cell_type": "markdown",
   "metadata": {
    "collapsed": true
   },
   "source": [
    "# Using the package\n",
    "\n",
    "We are now ready to run some simulations!\n",
    "\n",
    "Let's test an important result from Akbarpour & al. (2014). They prove that, for the arbitrary matching algorithm we implemented above, in bilateral matching, in continuous time, waiting for agents to initiate matches when they are critical (as in the `meta_patient` algorithm we just saw) will outperform a meta-algorithm that matches agents when they enter the market."
   ]
  },
  {
   "cell_type": "code",
   "execution_count": 16,
   "metadata": {
    "collapsed": true
   },
   "outputs": [],
   "source": [
    "def meta_Greedy(Market, match=arbitraryMatch):\n",
    "    \"\"\"\n",
    "    Attempts match if agent is entering market\n",
    "    \"\"\"\n",
    "    AgentList = [ag for ag in Market.Agents if ag.sojourn == 0]\n",
    "    return match(Market, AgentList)"
   ]
  },
  {
   "cell_type": "markdown",
   "metadata": {
    "collapsed": true
   },
   "source": [
    "Additionally, we can test the naive algorithm that always tries to match everyone, every period. Note that this one was not included in Akbarpour & al. (2014)."
   ]
  },
  {
   "cell_type": "code",
   "execution_count": 17,
   "metadata": {
    "collapsed": true
   },
   "outputs": [],
   "source": [
    "def meta_Always(Market, match=arbitraryMatch):\n",
    "    \"\"\"\n",
    "    Attempts everyone, every period\n",
    "    \"\"\"\n",
    "    return match(Market, Market.Agents)"
   ]
  },
  {
   "cell_type": "markdown",
   "metadata": {},
   "source": [
    "Let's compare the performance of these two meta-algorithms under various initial conditions!\n",
    "\n",
    "**Thin Market**\n",
    "\n",
    "First, let's try a thin market -- one where few agents have available matches at any time. We can induce this by having a low `arrival_rate`, a low `crit_input`, and a high `numTypes` with the type of market we are studying.\n",
    "\n",
    "Note that, over time, *market thickness is endogenous on the algorithm and meta-algorithm*. But we are trying to make the market exogenously thinner or thicker to see how our algorithms perform."
   ]
  },
  {
   "cell_type": "code",
   "execution_count": 18,
   "metadata": {
    "collapsed": false
   },
   "outputs": [
    {
     "name": "stdout",
     "output_type": "stream",
     "text": [
      "GREEDY ALGORITHM RESULTS\n",
      "---Thin Market---\n",
      "Simulation Results\n",
      "35000  periods\n",
      "5  runs\n",
      "Stat\t  value\t (std dev)\n",
      "==================================\n",
      "Welfare:   485.6 ( 10.3653 )\n",
      "matches:   485.6  ( 10.3653 )\n",
      "perished:  4514.6  ( 10.1509 )\n",
      "loss%:     0.9029  ( 0.0021 )\n",
      "\n",
      "\n",
      "PATIENT ALGORITHM RESULTS\n",
      "---Thin Market---\n",
      "Simulation Results\n",
      "35000  periods\n",
      "5  runs\n",
      "Stat\t  value\t (std dev)\n",
      "==================================\n",
      "Welfare:   1059.4 ( 24.8564 )\n",
      "matches:   1059.4  ( 24.8564 )\n",
      "perished:  3941.0  ( 25.1157 )\n",
      "loss%:     0.7881  ( 0.0050 )\n",
      "\n",
      "\n",
      "ALWAYS-MATCH ALGORITHM RESULTS\n",
      "---Thin Market---\n",
      "Simulation Results\n",
      "35000  periods\n",
      "5  runs\n",
      "Stat\t  value\t (std dev)\n",
      "==================================\n",
      "Welfare:   1462.6 ( 39.0210 )\n",
      "matches:   1462.6  ( 39.0210 )\n",
      "perished:  3537.6  ( 39.0518 )\n",
      "loss%:     0.7075  ( 0.0078 )\n"
     ]
    }
   ],
   "source": [
    "thin_market_greedy = mm.simulation(runs=5, time_per_run=35000, max_agents=5000, logAllData=False)\n",
    "thin_market_patient = mm.simulation(runs=5, time_per_run=35000, max_agents=5000, logAllData=False)\n",
    "thin_market_always = mm.simulation(runs=5, time_per_run=35000, max_agents=5000, logAllData=False)\n",
    "    \n",
    "thin_market_greedy.run(arrival_rate=0.7, time_to_crit=poisson.rvs, crit_input=1.7, \n",
    "                       algorithm=mm.arbitraryMatch, metaAlgorithm=mm.meta_Greedy, \n",
    "                       matchUtilFct=mm.utilSameType, neighborFct=mm.neighborSameType,\n",
    "                       typeGenerator=mm.randomType, numTypes=8)\n",
    "thin_market_patient.run(arrival_rate=0.7, time_to_crit=poisson.rvs, crit_input=1.7, \n",
    "                        algorithm=mm.arbitraryMatch, metaAlgorithm=mm.meta_Patient, \n",
    "                        matchUtilFct=mm.utilSameType, neighborFct=mm.neighborSameType, \n",
    "                        typeGenerator=mm.randomType, numTypes=8)\n",
    "thin_market_always.run(arrival_rate=0.7, time_to_crit=poisson.rvs, crit_input=1.7, \n",
    "                       algorithm=mm.arbitraryMatch, metaAlgorithm=mm.meta_Always, \n",
    "                       matchUtilFct=mm.utilSameType, neighborFct=mm.neighborSameType,\n",
    "                       typeGenerator=mm.randomType, numTypes=8)\n",
    "\n",
    "\n",
    "print(\"GREEDY ALGORITHM RESULTS\\n---Thin Market---\")\n",
    "\n",
    "thin_market_greedy.stats()\n",
    "\n",
    "print(\"\\n\\nPATIENT ALGORITHM RESULTS\\n---Thin Market---\")\n",
    "\n",
    "thin_market_patient.stats()\n",
    "\n",
    "print(\"\\n\\nALWAYS-MATCH ALGORITHM RESULTS\\n---Thin Market---\")\n",
    "\n",
    "thin_market_always.stats()"
   ]
  },
  {
   "cell_type": "markdown",
   "metadata": {
    "collapsed": true
   },
   "source": [
    "As we can see, in a thin market, the greedy algorithm performs poorly, the patient algorithm performs better, and trying to always match agents does best of the three.\n",
    "\n",
    "Note that here welfare is the same thing as the number of matches, because utility of matching succesfully is 1, and probability of failure of a match is 0.\n",
    "\n",
    "**Thick Market**\n",
    "\n",
    "Let's now try a thick market by adjusting the input parameters."
   ]
  },
  {
   "cell_type": "code",
   "execution_count": 26,
   "metadata": {
    "collapsed": false
   },
   "outputs": [
    {
     "name": "stdout",
     "output_type": "stream",
     "text": [
      "GREEDY ALGORITHM RESULTS\n",
      "---Thick Market---\n",
      "Simulation Results\n",
      "3500  periods\n",
      "5  runs\n",
      "Stat\t  value\t (std dev)\n",
      "==================================\n",
      "Welfare:   4371.6 ( 22.0690 )\n",
      "matches:   4371.6  ( 22.0690 )\n",
      "perished:  629.2  ( 21.2546 )\n",
      "loss%:     0.1258  ( 0.0043 )\n",
      "\n",
      "\n",
      "PATIENT ALGORITHM RESULTS\n",
      "---Thick Market---\n",
      "Simulation Results\n",
      "3500  periods\n",
      "5  runs\n",
      "Stat\t  value\t (std dev)\n",
      "==================================\n",
      "Welfare:   4999.8 ( 3.1241 )\n",
      "matches:   4999.8  ( 3.1241 )\n",
      "perished:  2.2  ( 1.4697 )\n",
      "loss%:     0.0004  ( 0.0003 )\n",
      "\n",
      "\n",
      "ALWAYS-MATCH ALGORITHM RESULTS\n",
      "---Thick Market---\n",
      "Simulation Results\n",
      "3500  periods\n",
      "5  runs\n",
      "Stat\t  value\t (std dev)\n",
      "==================================\n",
      "Welfare:   4977.8 ( 5.0359 )\n",
      "matches:   4977.8  ( 5.0359 )\n",
      "perished:  23.8  ( 4.5782 )\n",
      "loss%:     0.0048  ( 0.0009 )\n"
     ]
    }
   ],
   "source": [
    "thick_market_greedy = mm.simulation(runs=5, time_per_run=3500, max_agents=5000, logAllData=False)\n",
    "thick_market_patient = mm.simulation(runs=5, time_per_run=3500, max_agents=5000, logAllData=False)\n",
    "thick_market_always = mm.simulation(runs=5, time_per_run=3500, max_agents=5000, logAllData=False)\n",
    "    \n",
    "thick_market_greedy.run(arrival_rate=3, time_to_crit=poisson.rvs, crit_input=8, \n",
    "                        algorithm=mm.arbitraryMatch, metaAlgorithm=mm.meta_Greedy, \n",
    "                        matchUtilFct=mm.utilSameType, neighborFct=mm.neighborSameType,\n",
    "                        typeGenerator=mm.randomType, numTypes=4)\n",
    "thick_market_patient.run(arrival_rate=3, time_to_crit=poisson.rvs, crit_input=8, \n",
    "                         algorithm=mm.arbitraryMatch, metaAlgorithm=mm.meta_Patient, \n",
    "                         matchUtilFct=mm.utilSameType, neighborFct=mm.neighborSameType,\n",
    "                         typeGenerator=mm.randomType, numTypes=4)\n",
    "thick_market_always.run(arrival_rate=3, time_to_crit=poisson.rvs, crit_input=8, \n",
    "                        algorithm=mm.arbitraryMatch, metaAlgorithm=mm.meta_Always, \n",
    "                        matchUtilFct=mm.utilSameType, neighborFct=mm.neighborSameType,\n",
    "                        typeGenerator=mm.randomType, numTypes=4)\n",
    "\n",
    "\n",
    "print(\"GREEDY ALGORITHM RESULTS\\n---Thick Market---\")\n",
    "\n",
    "thick_market_greedy.stats()\n",
    "\n",
    "print(\"\\n\\nPATIENT ALGORITHM RESULTS\\n---Thick Market---\")\n",
    "\n",
    "thick_market_patient.stats()\n",
    "\n",
    "print(\"\\n\\nALWAYS-MATCH ALGORITHM RESULTS\\n---Thick Market---\")\n",
    "\n",
    "thick_market_always.stats()"
   ]
  },
  {
   "cell_type": "markdown",
   "metadata": {},
   "source": [
    "We already have an interesting result! **In a thicker market, the patient algorithm does even better than the always-match algorithm!** We can also see that the greedy algorithm continues to perform poorly.\n",
    "\n",
    "While we haven't formally proved any results, we can perform these montecarlo trials quickly over a larger input space and get a good idea of algorithm performance.\n",
    "\n",
    "In part 2, we'll study more sophisticated matching algorithms, and see how they pair with meta-algorithms."
   ]
  }
 ],
 "metadata": {
  "kernelspec": {
   "display_name": "Python [conda root]",
   "language": "python",
   "name": "conda-root-py"
  },
  "language_info": {
   "codemirror_mode": {
    "name": "ipython",
    "version": 3
   },
   "file_extension": ".py",
   "mimetype": "text/x-python",
   "name": "python",
   "nbconvert_exporter": "python",
   "pygments_lexer": "ipython3",
   "version": "3.5.2"
  }
 },
 "nbformat": 4,
 "nbformat_minor": 2
}
